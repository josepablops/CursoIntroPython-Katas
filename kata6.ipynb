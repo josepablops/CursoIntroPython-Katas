{
 "cells": [
  {
   "cell_type": "markdown",
   "metadata": {},
   "source": [
    "#Planetas"
   ]
  },
  {
   "cell_type": "code",
   "execution_count": 5,
   "metadata": {},
   "outputs": [
    {
     "name": "stdout",
     "output_type": "stream",
     "text": [
      "No de planetas:  8\n"
     ]
    }
   ],
   "source": [
    "listaPlanetas = ['Mercurio', 'Venus', 'Tierra', 'Marte', 'Jupiter', 'Saturno', 'Urano', 'Neptuno']\n",
    "print('No de planetas: ', len(listaPlanetas))"
   ]
  },
  {
   "cell_type": "markdown",
   "metadata": {},
   "source": [
    "#Agregando a Pluton"
   ]
  },
  {
   "cell_type": "code",
   "execution_count": 6,
   "metadata": {},
   "outputs": [
    {
     "name": "stdout",
     "output_type": "stream",
     "text": [
      "el último planeta es: Plutón\n"
     ]
    }
   ],
   "source": [
    "listaPlanetas.append('Plutón')\n",
    "print('el último planeta es:', listaPlanetas[-1])"
   ]
  },
  {
   "cell_type": "markdown",
   "metadata": {},
   "source": [
    "Parte 2:"
   ]
  },
  {
   "cell_type": "code",
   "execution_count": 7,
   "metadata": {},
   "outputs": [
    {
     "name": "stdout",
     "output_type": "stream",
     "text": [
      "Planetas mas cercanos al Sol que Jupiter\n",
      "['Mercurio', 'Venus', 'Tierra', 'Marte']\n",
      "Planetas mas alejados del Sol que Jupiter\n",
      "['Saturno', 'Urano', 'Neptuno']\n"
     ]
    }
   ],
   "source": [
    "listaPlanetas = ['Mercurio', 'Venus', 'Tierra', 'Marte', 'Jupiter', 'Saturno', 'Urano', 'Neptuno']\n",
    "#Solicitar nombre de planeta\n",
    "\n",
    "typeplaneta = input('Introduce el nombre de un planeta: ')\n",
    "\n",
    "#buscando la posicion del planeta introducido\n",
    "planetaindice = listaPlanetas.index(typeplaneta)\n",
    "\n",
    "# Muestra los planetas más cercanos al sol\n",
    "\n",
    "print('Planetas mas cercanos al Sol que ' + typeplaneta)\n",
    "print(listaPlanetas[0:planetaindice:])\n",
    "\n",
    "# Muestra los planetas más lejanos al sol\n",
    "\n",
    "print('Planetas mas alejados del Sol que ' + typeplaneta)\n",
    "print(listaPlanetas[planetaindice + 1:])"
   ]
  }
 ],
 "metadata": {
  "interpreter": {
   "hash": "009b34b87da63f55c6e949db8e301f11d6dbf4924c925942d240d18c6dcc16ca"
  },
  "kernelspec": {
   "display_name": "Python 3.10.2 64-bit",
   "language": "python",
   "name": "python3"
  },
  "language_info": {
   "codemirror_mode": {
    "name": "ipython",
    "version": 3
   },
   "file_extension": ".py",
   "mimetype": "text/x-python",
   "name": "python",
   "nbconvert_exporter": "python",
   "pygments_lexer": "ipython3",
   "version": "3.10.2"
  },
  "orig_nbformat": 4
 },
 "nbformat": 4,
 "nbformat_minor": 2
}
