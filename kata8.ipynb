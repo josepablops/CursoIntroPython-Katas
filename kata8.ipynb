{
 "cells": [
  {
   "cell_type": "markdown",
   "metadata": {},
   "source": [
    "Ejercicio 1: Creando y modificando Diccionarios en Python"
   ]
  },
  {
   "cell_type": "code",
   "execution_count": 11,
   "metadata": {},
   "outputs": [
    {
     "name": "stdout",
     "output_type": "stream",
     "text": [
      "El nombre del planeta es: Marte\n",
      "Su numero de lunas es: 2\n"
     ]
    }
   ],
   "source": [
    "#creando diccionario\n",
    "planeta = {'nombre': 'Marte', 'moons': 2}\n",
    "print('El nombre del planeta es: ' + planeta['nombre'])\n",
    "print('Su numero de lunas es: ' + (str(planeta.get('moons'))))\n",
    "#"
   ]
  },
  {
   "cell_type": "markdown",
   "metadata": {},
   "source": [
    "Agregregando valores al diccionario:"
   ]
  },
  {
   "cell_type": "code",
   "execution_count": 14,
   "metadata": {},
   "outputs": [
    {
     "name": "stdout",
     "output_type": "stream",
     "text": [
      "Circunferencia polar del planeta es: 6752\n"
     ]
    }
   ],
   "source": [
    "#agregando circunferencias:\n",
    "planeta['polar'] = 6752\n",
    "planeta['equatorial'] = 6792\n",
    "\n",
    "#imprimiendo la circunferencia polar:\n",
    "print('Circunferencia polar del planeta es: ' + str(planeta['polar']))\n"
   ]
  },
  {
   "cell_type": "markdown",
   "metadata": {},
   "source": [
    "Ejercicio 2: Programación dinámica de diccionarios:"
   ]
  },
  {
   "cell_type": "code",
   "execution_count": 31,
   "metadata": {},
   "outputs": [
    {
     "name": "stdout",
     "output_type": "stream",
     "text": [
      "El numero de planetas es: 12\n",
      "El numero de lunas es:214\n",
      "17.833333333333332\n"
     ]
    }
   ],
   "source": [
    "planet_moons = {\n",
    "    'mercury': 0,\n",
    "    'venus': 0,\n",
    "    'earth': 1,\n",
    "    'mars': 2,\n",
    "    'jupiter': 79,\n",
    "    'saturn': 82,\n",
    "    'uranus': 27,\n",
    "    'neptune': 14,\n",
    "    'pluto': 5,\n",
    "    'haumea': 2,\n",
    "    'makemake': 1,\n",
    "    'eris': 1\n",
    "}\n",
    "\n",
    "\n",
    "planets = 0\n",
    "moons = 0\n",
    "\n",
    "#contando numero de planetas\n",
    "\n",
    "planets = len(planet_moons.keys())\n",
    "print('El numero de planetas es: ' + str(planets))   \n",
    "\n",
    "#contando numero de lunas\n",
    "for valor in planet_moons.values():\n",
    "    moons = moons + valor\n",
    "\n",
    "print('El numero de lunas es:' + str(moons))\n",
    "\n",
    "#promedio\n",
    "promedio = moons / planets    \n",
    "print('promedio: ' + str(promedio))\n",
    "\n"
   ]
  }
 ],
 "metadata": {
  "interpreter": {
   "hash": "009b34b87da63f55c6e949db8e301f11d6dbf4924c925942d240d18c6dcc16ca"
  },
  "kernelspec": {
   "display_name": "Python 3.10.2 64-bit",
   "language": "python",
   "name": "python3"
  },
  "language_info": {
   "codemirror_mode": {
    "name": "ipython",
    "version": 3
   },
   "file_extension": ".py",
   "mimetype": "text/x-python",
   "name": "python",
   "nbconvert_exporter": "python",
   "pygments_lexer": "ipython3",
   "version": "3.10.2"
  },
  "orig_nbformat": 4
 },
 "nbformat": 4,
 "nbformat_minor": 2
}
