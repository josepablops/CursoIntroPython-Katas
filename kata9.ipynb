{
 "cells": [
  {
   "cell_type": "markdown",
   "metadata": {},
   "source": [
    "Ejercicio 1: Uso de funciones en Python"
   ]
  },
  {
   "cell_type": "code",
   "execution_count": 15,
   "metadata": {},
   "outputs": [
    {
     "name": "stdout",
     "output_type": "stream",
     "text": [
      "Reporte de combustible: \n",
      "Combustible promedio: 73.0, \n",
      "Tanque1: 130, \n",
      "Tanque2: 56, \n",
      "Tanque3: 33\n"
     ]
    }
   ],
   "source": [
    "def lecturas_de_combustible(tankprin, tankext, tankhidro):\n",
    "    promedio = (tankprin + tankext + tankhidro) / 3\n",
    "    return f\"\"\"Reporte de combustible: \\nCombustible promedio: {promedio}, \\nTanque1: {tankprin}, \\nTanque2: {tankext}, \\nTanque3: {tankhidro}\"\"\"\n",
    "    \n",
    "print(lecturas_de_combustible(130, 56, 33))\n"
   ]
  },
  {
   "cell_type": "code",
   "execution_count": 21,
   "metadata": {},
   "outputs": [
    {
     "data": {
      "text/plain": [
       "82.0"
      ]
     },
     "execution_count": 21,
     "metadata": {},
     "output_type": "execute_result"
    }
   ],
   "source": [
    "#promedio\n",
    "\n",
    "def promedio(tankprin, tankext, tankhidro):\n",
    "    totprom = (tankprin + tankext + tankhidro) / 3\n",
    "    return totprom\n",
    "\n",
    "promedio(80, 85, 81)"
   ]
  },
  {
   "cell_type": "code",
   "execution_count": 22,
   "metadata": {},
   "outputs": [
    {
     "name": "stdout",
     "output_type": "stream",
     "text": [
      "Reporte de combustible: \n",
      "Combustible promedio: 73.0, \n",
      "Tanque1: 130, \n",
      "Tanque2: 56, \n",
      "Tanque3: 33\n"
     ]
    }
   ],
   "source": [
    "#Actualizando funcion:\n",
    "\n",
    "def lecturas_de_combustible(tankprin, tankext, tankhidro):\n",
    "    return f\"\"\"Reporte de combustible: \\nCombustible promedio: {promedio(tankprin, tankext, tankhidro)}, \\nTanque1: {tankprin}, \\nTanque2: {tankext}, \\nTanque3: {tankhidro}\"\"\"\n",
    "    \n",
    "print(lecturas_de_combustible(130, 56, 33))\n"
   ]
  },
  {
   "cell_type": "markdown",
   "metadata": {},
   "source": [
    "Ejercicio 2:"
   ]
  },
  {
   "cell_type": "code",
   "execution_count": null,
   "metadata": {},
   "outputs": [],
   "source": [
    "def reporte_mision(prelanzam, tiempo_vuelo, destino, tankext, tankprin):\n",
    "    return f\"\"\" Destino: {destino}\\n Tiempo de vuelo: {prelanzam + tiempo_vuelo} min \\nReservas combustible: {tankext + tankprin} gal\n",
    "    \"\"\"\n",
    "print(reporte_mision(12, 43, \"Marte\", 38500, 210000))"
   ]
  },
  {
   "cell_type": "code",
   "execution_count": 33,
   "metadata": {},
   "outputs": [
    {
     "name": "stdout",
     "output_type": "stream",
     "text": [
      "\n",
      "    Destino: Jupiter\n",
      "    Tiempo de vuelo total: 111 minutes\n",
      "    Reserva de combustible total: 500000\n",
      "    \n"
     ]
    }
   ],
   "source": [
    "def reporte_mision(destino, *minutes, **fuel_reservoirs):\n",
    "    return f\"\"\"\n",
    "    Destino: {destino}\n",
    "    Tiempo de vuelo total: {sum(minutes)} minutes\n",
    "    Reserva de combustible total: {sum(fuel_reservoirs.values())}\n",
    "    \"\"\"\n",
    "    #*var o **var = acepta cualquier numero de argumentos clave variable\n",
    "    #**var maneja los datos como un diccionario -> 'main': 300000\n",
    "\n",
    "print(reporte_mision(\"Jupiter\", 35, 10, 15, 51, main=300000, external=200000))"
   ]
  },
  {
   "cell_type": "code",
   "execution_count": 1,
   "metadata": {},
   "outputs": [
    {
     "name": "stdout",
     "output_type": "stream",
     "text": [
      "\n",
      "    Mission to Moon\n",
      "    Total travel time: 74 minutes\n",
      "    Total fuel left: 500000\n",
      "    main tank --> 300000 gallons left\n",
      "external tank --> 200000 gallons left\n",
      "\n"
     ]
    }
   ],
   "source": [
    "# Añadiendo..\n",
    "\n",
    "def reporte_mision(destino, *minutes, **fuel_reservoirs):\n",
    "    main_report = f\"\"\"\n",
    "    Mission to {destino}\n",
    "    Total travel time: {sum(minutes)} minutes\n",
    "    Total fuel left: {sum(fuel_reservoirs.values())}\n",
    "    \"\"\"\n",
    "    for tank_name, gallons in fuel_reservoirs.items():\n",
    "        main_report += f\"{tank_name} tank --> {gallons} gallons left\\n\"\n",
    "    return main_report\n",
    "\n",
    "print(reporte_mision(\"Moon\", 8, 11, 55, main=300000, external=200000))"
   ]
  }
 ],
 "metadata": {
  "interpreter": {
   "hash": "009b34b87da63f55c6e949db8e301f11d6dbf4924c925942d240d18c6dcc16ca"
  },
  "kernelspec": {
   "display_name": "Python 3.10.2 64-bit",
   "language": "python",
   "name": "python3"
  },
  "language_info": {
   "codemirror_mode": {
    "name": "ipython",
    "version": 3
   },
   "file_extension": ".py",
   "mimetype": "text/x-python",
   "name": "python",
   "nbconvert_exporter": "python",
   "pygments_lexer": "ipython3",
   "version": "3.10.2"
  },
  "orig_nbformat": 4
 },
 "nbformat": 4,
 "nbformat_minor": 2
}
