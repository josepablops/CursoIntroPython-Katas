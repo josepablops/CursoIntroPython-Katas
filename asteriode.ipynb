{
 "cells": [
  {
   "cell_type": "markdown",
   "metadata": {},
   "source": [
    "Caso 1: Advertencia de aproximación de asteroide"
   ]
  },
  {
   "cell_type": "code",
   "execution_count": 4,
   "metadata": {},
   "outputs": [
    {
     "name": "stdout",
     "output_type": "stream",
     "text": [
      "Un asteroide se aproxima a la tierra\n"
     ]
    }
   ],
   "source": [
    "astvelocidad = 49\n",
    "if astvelocidad > 25:\n",
    "  print(\"Un asteroide se aproxima a la tierra\")\n",
    "else:\n",
    "  print(\"todo normal\")"
   ]
  },
  {
   "cell_type": "markdown",
   "metadata": {},
   "source": [
    "Caso 2: Observar rayo de luz"
   ]
  },
  {
   "cell_type": "code",
   "execution_count": null,
   "metadata": {},
   "outputs": [],
   "source": [
    "astvelocidad = 19\n",
    "if astvelocidad > 20:\n",
    "    print('Mira, hay una luz en el cielo')\n",
    "elif astvelocidad == 20:\n",
    "    print('Mira, hay una luz en el cielo')\n",
    "else:\n",
    "    print('Cielo despejado')"
   ]
  },
  {
   "cell_type": "markdown",
   "metadata": {},
   "source": [
    "Caso 3: Mensaje de acuerdo a velocidad y tamaño del asteroide"
   ]
  },
  {
   "cell_type": "code",
   "execution_count": 1,
   "metadata": {},
   "outputs": [
    {
     "name": "stdout",
     "output_type": "stream",
     "text": [
      "Mira, hay una luz en el cielo\n"
     ]
    }
   ],
   "source": [
    "astvelocidad = 25\n",
    "astsize = 40\n",
    "if astvelocidad > 25 and astsize > 25:\n",
    "    print('Un asteroide se aproxima a la tierra')\n",
    "elif astvelocidad >= 20:\n",
    "    print('Mira, hay una luz en el cielo')\n",
    "elif astsize < 25:\n",
    "    print('Cielo despejado')\n",
    "else:\n",
    "    print('Cielo despejado')"
   ]
  }
 ],
 "metadata": {
  "interpreter": {
   "hash": "009b34b87da63f55c6e949db8e301f11d6dbf4924c925942d240d18c6dcc16ca"
  },
  "kernelspec": {
   "display_name": "Python 3.10.2 64-bit",
   "language": "python",
   "name": "python3"
  },
  "language_info": {
   "codemirror_mode": {
    "name": "ipython",
    "version": 3
   },
   "file_extension": ".py",
   "mimetype": "text/x-python",
   "name": "python",
   "nbconvert_exporter": "python",
   "pygments_lexer": "ipython3",
   "version": "3.10.2"
  },
  "orig_nbformat": 4
 },
 "nbformat": 4,
 "nbformat_minor": 2
}
